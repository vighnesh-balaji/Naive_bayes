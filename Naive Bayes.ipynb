{
 "cells": [
  {
   "cell_type": "code",
   "execution_count": 1,
   "id": "bfd0d532",
   "metadata": {},
   "outputs": [],
   "source": [
    "from sklearn.datasets import fetch_20newsgroups\n",
    "from sklearn.naive_bayes import MultinomialNB\n",
    "from sklearn.feature_extraction.text import CountVectorizer\n",
    "\n",
    "emails = fetch_20newsgroups()"
   ]
  },
  {
   "cell_type": "markdown",
   "id": "5ea1e149",
   "metadata": {},
   "source": [
    "We’ve imported a dataset of emails from scikit-learn’s datasets. All of these emails are tagged based on their content."
   ]
  },
  {
   "cell_type": "code",
   "execution_count": 2,
   "id": "df722c4b",
   "metadata": {},
   "outputs": [
    {
     "data": {
      "text/plain": [
       "['alt.atheism',\n",
       " 'comp.graphics',\n",
       " 'comp.os.ms-windows.misc',\n",
       " 'comp.sys.ibm.pc.hardware',\n",
       " 'comp.sys.mac.hardware',\n",
       " 'comp.windows.x',\n",
       " 'misc.forsale',\n",
       " 'rec.autos',\n",
       " 'rec.motorcycles',\n",
       " 'rec.sport.baseball',\n",
       " 'rec.sport.hockey',\n",
       " 'sci.crypt',\n",
       " 'sci.electronics',\n",
       " 'sci.med',\n",
       " 'sci.space',\n",
       " 'soc.religion.christian',\n",
       " 'talk.politics.guns',\n",
       " 'talk.politics.mideast',\n",
       " 'talk.politics.misc',\n",
       " 'talk.religion.misc']"
      ]
     },
     "execution_count": 2,
     "metadata": {},
     "output_type": "execute_result"
    }
   ],
   "source": [
    "emails.target_names"
   ]
  },
  {
   "cell_type": "markdown",
   "id": "f2163561",
   "metadata": {},
   "source": [
    "We’re interested in seeing how effective our Naive Bayes classifier is at telling the difference between a baseball email and a hockey email. We can select the categories of articles we want from fetch_20newsgroups by adding the parameter categories."
   ]
  },
  {
   "cell_type": "code",
   "execution_count": 18,
   "id": "9ffae6bc",
   "metadata": {},
   "outputs": [],
   "source": [
    "emails = fetch_20newsgroups(categories = ['rec.sport.baseball', 'soc.religion.christian'])"
   ]
  },
  {
   "cell_type": "code",
   "execution_count": 19,
   "id": "3f9b2923",
   "metadata": {},
   "outputs": [
    {
     "name": "stdout",
     "output_type": "stream",
     "text": [
      "From: luigi@sgi.com (Randy Palermo)\n",
      "Subject: Re: Grateful Dead?\n",
      "Organization: Silicon Graphics, Inc., Mountain View, CA\n",
      "Lines: 16\n",
      "Nntp-Posting-Host: bullpen.csd.sgi.com\n",
      "\n",
      "In article <93095.172834IO21087@MAINE.MAINE.EDU> IO21087@MAINE.MAINE.EDU writes:\n",
      ">Being a baseball fan and a fan of the above mentioned band I was\n",
      ">wondering if anyone could clue me in on whether the Dead (or members\n",
      ">of) sang the national anthem at todays Giant opener?\n",
      ">\n",
      ">I would imagine that it is a bit too early for anyone to know, but\n",
      ">an answer would be greatly appreciated.\n",
      ">\n",
      "It is my understanding that the Dead will sing the NA at the Giants\n",
      "home opener on Mon. 4/12. The Giants are opening today in St. Louis.\n",
      "\n",
      "luigi\n",
      "--\n",
      "Randy Palermo   luigi@csd.sgi.com    Fax: (415)961-6502\n",
      "Silicon Graphics Computer Systems, 2011 N. Shoreline Blvd Mt. View, CA 94039\n",
      "\"Play an accordion, go to jail. That's the LAW\"\n",
      "\n"
     ]
    }
   ],
   "source": [
    "print(emails.data[5])"
   ]
  },
  {
   "cell_type": "code",
   "execution_count": 20,
   "id": "9559e7b6",
   "metadata": {},
   "outputs": [
    {
     "name": "stdout",
     "output_type": "stream",
     "text": [
      "0\n"
     ]
    }
   ],
   "source": [
    "print(emails.target[5])"
   ]
  },
  {
   "cell_type": "markdown",
   "id": "34916002",
   "metadata": {},
   "source": [
    "Create the train and test datasets"
   ]
  },
  {
   "cell_type": "code",
   "execution_count": 6,
   "id": "b5fee0d3",
   "metadata": {},
   "outputs": [],
   "source": [
    "train_emails = fetch_20newsgroups(categories = ['rec.sport.baseball', 'soc.religion.christian'], subset = 'train',shuffle= True,random_state=42)"
   ]
  },
  {
   "cell_type": "code",
   "execution_count": 7,
   "id": "03c67984",
   "metadata": {},
   "outputs": [],
   "source": [
    "# print(train_emails)"
   ]
  },
  {
   "cell_type": "code",
   "execution_count": 8,
   "id": "a6872621",
   "metadata": {},
   "outputs": [],
   "source": [
    "test_emails = fetch_20newsgroups(categories = ['rec.sport.baseball', 'soc.religion.christian'], subset = 'test',shuffle= True,random_state=42)"
   ]
  },
  {
   "cell_type": "markdown",
   "id": "d4ee08f7",
   "metadata": {},
   "source": [
    "We want to transform these emails into lists of word counts. The CountVectorizer class makes this easy for us."
   ]
  },
  {
   "cell_type": "code",
   "execution_count": 9,
   "id": "84bfb729",
   "metadata": {},
   "outputs": [],
   "source": [
    "counter = CountVectorizer()"
   ]
  },
  {
   "cell_type": "markdown",
   "id": "5c61cb51",
   "metadata": {},
   "source": [
    "We need to tell counter what possible words can exist in our emails. counter has a .fit() a function that takes a list of all our data."
   ]
  },
  {
   "cell_type": "code",
   "execution_count": 10,
   "id": "d0787574",
   "metadata": {},
   "outputs": [
    {
     "data": {
      "text/html": [
       "<style>#sk-container-id-1 {color: black;background-color: white;}#sk-container-id-1 pre{padding: 0;}#sk-container-id-1 div.sk-toggleable {background-color: white;}#sk-container-id-1 label.sk-toggleable__label {cursor: pointer;display: block;width: 100%;margin-bottom: 0;padding: 0.3em;box-sizing: border-box;text-align: center;}#sk-container-id-1 label.sk-toggleable__label-arrow:before {content: \"▸\";float: left;margin-right: 0.25em;color: #696969;}#sk-container-id-1 label.sk-toggleable__label-arrow:hover:before {color: black;}#sk-container-id-1 div.sk-estimator:hover label.sk-toggleable__label-arrow:before {color: black;}#sk-container-id-1 div.sk-toggleable__content {max-height: 0;max-width: 0;overflow: hidden;text-align: left;background-color: #f0f8ff;}#sk-container-id-1 div.sk-toggleable__content pre {margin: 0.2em;color: black;border-radius: 0.25em;background-color: #f0f8ff;}#sk-container-id-1 input.sk-toggleable__control:checked~div.sk-toggleable__content {max-height: 200px;max-width: 100%;overflow: auto;}#sk-container-id-1 input.sk-toggleable__control:checked~label.sk-toggleable__label-arrow:before {content: \"▾\";}#sk-container-id-1 div.sk-estimator input.sk-toggleable__control:checked~label.sk-toggleable__label {background-color: #d4ebff;}#sk-container-id-1 div.sk-label input.sk-toggleable__control:checked~label.sk-toggleable__label {background-color: #d4ebff;}#sk-container-id-1 input.sk-hidden--visually {border: 0;clip: rect(1px 1px 1px 1px);clip: rect(1px, 1px, 1px, 1px);height: 1px;margin: -1px;overflow: hidden;padding: 0;position: absolute;width: 1px;}#sk-container-id-1 div.sk-estimator {font-family: monospace;background-color: #f0f8ff;border: 1px dotted black;border-radius: 0.25em;box-sizing: border-box;margin-bottom: 0.5em;}#sk-container-id-1 div.sk-estimator:hover {background-color: #d4ebff;}#sk-container-id-1 div.sk-parallel-item::after {content: \"\";width: 100%;border-bottom: 1px solid gray;flex-grow: 1;}#sk-container-id-1 div.sk-label:hover label.sk-toggleable__label {background-color: #d4ebff;}#sk-container-id-1 div.sk-serial::before {content: \"\";position: absolute;border-left: 1px solid gray;box-sizing: border-box;top: 0;bottom: 0;left: 50%;z-index: 0;}#sk-container-id-1 div.sk-serial {display: flex;flex-direction: column;align-items: center;background-color: white;padding-right: 0.2em;padding-left: 0.2em;position: relative;}#sk-container-id-1 div.sk-item {position: relative;z-index: 1;}#sk-container-id-1 div.sk-parallel {display: flex;align-items: stretch;justify-content: center;background-color: white;position: relative;}#sk-container-id-1 div.sk-item::before, #sk-container-id-1 div.sk-parallel-item::before {content: \"\";position: absolute;border-left: 1px solid gray;box-sizing: border-box;top: 0;bottom: 0;left: 50%;z-index: -1;}#sk-container-id-1 div.sk-parallel-item {display: flex;flex-direction: column;z-index: 1;position: relative;background-color: white;}#sk-container-id-1 div.sk-parallel-item:first-child::after {align-self: flex-end;width: 50%;}#sk-container-id-1 div.sk-parallel-item:last-child::after {align-self: flex-start;width: 50%;}#sk-container-id-1 div.sk-parallel-item:only-child::after {width: 0;}#sk-container-id-1 div.sk-dashed-wrapped {border: 1px dashed gray;margin: 0 0.4em 0.5em 0.4em;box-sizing: border-box;padding-bottom: 0.4em;background-color: white;}#sk-container-id-1 div.sk-label label {font-family: monospace;font-weight: bold;display: inline-block;line-height: 1.2em;}#sk-container-id-1 div.sk-label-container {text-align: center;}#sk-container-id-1 div.sk-container {/* jupyter's `normalize.less` sets `[hidden] { display: none; }` but bootstrap.min.css set `[hidden] { display: none !important; }` so we also need the `!important` here to be able to override the default hidden behavior on the sphinx rendered scikit-learn.org. See: https://github.com/scikit-learn/scikit-learn/issues/21755 */display: inline-block !important;position: relative;}#sk-container-id-1 div.sk-text-repr-fallback {display: none;}</style><div id=\"sk-container-id-1\" class=\"sk-top-container\"><div class=\"sk-text-repr-fallback\"><pre>CountVectorizer()</pre><b>In a Jupyter environment, please rerun this cell to show the HTML representation or trust the notebook. <br />On GitHub, the HTML representation is unable to render, please try loading this page with nbviewer.org.</b></div><div class=\"sk-container\" hidden><div class=\"sk-item\"><div class=\"sk-estimator sk-toggleable\"><input class=\"sk-toggleable__control sk-hidden--visually\" id=\"sk-estimator-id-1\" type=\"checkbox\" checked><label for=\"sk-estimator-id-1\" class=\"sk-toggleable__label sk-toggleable__label-arrow\">CountVectorizer</label><div class=\"sk-toggleable__content\"><pre>CountVectorizer()</pre></div></div></div></div></div>"
      ],
      "text/plain": [
       "CountVectorizer()"
      ]
     },
     "execution_count": 10,
     "metadata": {},
     "output_type": "execute_result"
    }
   ],
   "source": [
    "counter.fit(train_emails.data+test_emails.data)"
   ]
  },
  {
   "cell_type": "code",
   "execution_count": 11,
   "id": "c85c9502",
   "metadata": {},
   "outputs": [],
   "source": [
    "train_counts = counter.transform(train_emails.data)"
   ]
  },
  {
   "cell_type": "code",
   "execution_count": 12,
   "id": "d969d75d",
   "metadata": {},
   "outputs": [
    {
     "name": "stdout",
     "output_type": "stream",
     "text": [
      "  (0, 1145)\t2\n",
      "  (0, 1196)\t1\n",
      "  (0, 2727)\t3\n",
      "  (0, 2999)\t1\n",
      "  (0, 3091)\t1\n",
      "  (0, 3189)\t1\n",
      "  (0, 3317)\t1\n",
      "  (0, 3510)\t4\n",
      "  (0, 3597)\t1\n",
      "  (0, 3944)\t2\n",
      "  (0, 4075)\t1\n",
      "  (0, 4150)\t1\n",
      "  (0, 4241)\t1\n",
      "  (0, 4574)\t1\n",
      "  (0, 4696)\t1\n",
      "  (0, 4821)\t5\n",
      "  (0, 4869)\t2\n",
      "  (0, 4977)\t1\n",
      "  (0, 5079)\t1\n",
      "  (0, 5247)\t4\n",
      "  (0, 5531)\t1\n",
      "  (0, 5973)\t2\n",
      "  (0, 6053)\t1\n",
      "  (0, 6291)\t2\n",
      "  (0, 6308)\t1\n",
      "  :\t:\n",
      "  (1195, 23756)\t1\n",
      "  (1195, 23757)\t3\n",
      "  (1195, 23964)\t1\n",
      "  (1195, 23974)\t1\n",
      "  (1195, 23978)\t17\n",
      "  (1195, 24028)\t2\n",
      "  (1195, 24160)\t1\n",
      "  (1195, 24200)\t1\n",
      "  (1195, 24233)\t1\n",
      "  (1195, 24259)\t6\n",
      "  (1195, 24726)\t1\n",
      "  (1195, 25443)\t1\n",
      "  (1195, 25722)\t1\n",
      "  (1195, 25761)\t1\n",
      "  (1195, 25798)\t1\n",
      "  (1195, 25846)\t2\n",
      "  (1195, 25946)\t1\n",
      "  (1195, 25957)\t1\n",
      "  (1195, 25959)\t1\n",
      "  (1195, 26012)\t1\n",
      "  (1195, 26142)\t1\n",
      "  (1195, 26329)\t1\n",
      "  (1195, 26446)\t1\n",
      "  (1195, 26481)\t7\n",
      "  (1195, 26491)\t1\n"
     ]
    }
   ],
   "source": [
    "print(train_counts)"
   ]
  },
  {
   "cell_type": "code",
   "execution_count": 13,
   "id": "29fc455b",
   "metadata": {},
   "outputs": [],
   "source": [
    "test_counts = counter.transform(test_emails.data)"
   ]
  },
  {
   "cell_type": "code",
   "execution_count": 14,
   "id": "4ece6a6e",
   "metadata": {},
   "outputs": [],
   "source": [
    "nvc = MultinomialNB()"
   ]
  },
  {
   "cell_type": "code",
   "execution_count": 15,
   "id": "ec4b43ee",
   "metadata": {},
   "outputs": [
    {
     "data": {
      "text/html": [
       "<style>#sk-container-id-2 {color: black;background-color: white;}#sk-container-id-2 pre{padding: 0;}#sk-container-id-2 div.sk-toggleable {background-color: white;}#sk-container-id-2 label.sk-toggleable__label {cursor: pointer;display: block;width: 100%;margin-bottom: 0;padding: 0.3em;box-sizing: border-box;text-align: center;}#sk-container-id-2 label.sk-toggleable__label-arrow:before {content: \"▸\";float: left;margin-right: 0.25em;color: #696969;}#sk-container-id-2 label.sk-toggleable__label-arrow:hover:before {color: black;}#sk-container-id-2 div.sk-estimator:hover label.sk-toggleable__label-arrow:before {color: black;}#sk-container-id-2 div.sk-toggleable__content {max-height: 0;max-width: 0;overflow: hidden;text-align: left;background-color: #f0f8ff;}#sk-container-id-2 div.sk-toggleable__content pre {margin: 0.2em;color: black;border-radius: 0.25em;background-color: #f0f8ff;}#sk-container-id-2 input.sk-toggleable__control:checked~div.sk-toggleable__content {max-height: 200px;max-width: 100%;overflow: auto;}#sk-container-id-2 input.sk-toggleable__control:checked~label.sk-toggleable__label-arrow:before {content: \"▾\";}#sk-container-id-2 div.sk-estimator input.sk-toggleable__control:checked~label.sk-toggleable__label {background-color: #d4ebff;}#sk-container-id-2 div.sk-label input.sk-toggleable__control:checked~label.sk-toggleable__label {background-color: #d4ebff;}#sk-container-id-2 input.sk-hidden--visually {border: 0;clip: rect(1px 1px 1px 1px);clip: rect(1px, 1px, 1px, 1px);height: 1px;margin: -1px;overflow: hidden;padding: 0;position: absolute;width: 1px;}#sk-container-id-2 div.sk-estimator {font-family: monospace;background-color: #f0f8ff;border: 1px dotted black;border-radius: 0.25em;box-sizing: border-box;margin-bottom: 0.5em;}#sk-container-id-2 div.sk-estimator:hover {background-color: #d4ebff;}#sk-container-id-2 div.sk-parallel-item::after {content: \"\";width: 100%;border-bottom: 1px solid gray;flex-grow: 1;}#sk-container-id-2 div.sk-label:hover label.sk-toggleable__label {background-color: #d4ebff;}#sk-container-id-2 div.sk-serial::before {content: \"\";position: absolute;border-left: 1px solid gray;box-sizing: border-box;top: 0;bottom: 0;left: 50%;z-index: 0;}#sk-container-id-2 div.sk-serial {display: flex;flex-direction: column;align-items: center;background-color: white;padding-right: 0.2em;padding-left: 0.2em;position: relative;}#sk-container-id-2 div.sk-item {position: relative;z-index: 1;}#sk-container-id-2 div.sk-parallel {display: flex;align-items: stretch;justify-content: center;background-color: white;position: relative;}#sk-container-id-2 div.sk-item::before, #sk-container-id-2 div.sk-parallel-item::before {content: \"\";position: absolute;border-left: 1px solid gray;box-sizing: border-box;top: 0;bottom: 0;left: 50%;z-index: -1;}#sk-container-id-2 div.sk-parallel-item {display: flex;flex-direction: column;z-index: 1;position: relative;background-color: white;}#sk-container-id-2 div.sk-parallel-item:first-child::after {align-self: flex-end;width: 50%;}#sk-container-id-2 div.sk-parallel-item:last-child::after {align-self: flex-start;width: 50%;}#sk-container-id-2 div.sk-parallel-item:only-child::after {width: 0;}#sk-container-id-2 div.sk-dashed-wrapped {border: 1px dashed gray;margin: 0 0.4em 0.5em 0.4em;box-sizing: border-box;padding-bottom: 0.4em;background-color: white;}#sk-container-id-2 div.sk-label label {font-family: monospace;font-weight: bold;display: inline-block;line-height: 1.2em;}#sk-container-id-2 div.sk-label-container {text-align: center;}#sk-container-id-2 div.sk-container {/* jupyter's `normalize.less` sets `[hidden] { display: none; }` but bootstrap.min.css set `[hidden] { display: none !important; }` so we also need the `!important` here to be able to override the default hidden behavior on the sphinx rendered scikit-learn.org. See: https://github.com/scikit-learn/scikit-learn/issues/21755 */display: inline-block !important;position: relative;}#sk-container-id-2 div.sk-text-repr-fallback {display: none;}</style><div id=\"sk-container-id-2\" class=\"sk-top-container\"><div class=\"sk-text-repr-fallback\"><pre>MultinomialNB()</pre><b>In a Jupyter environment, please rerun this cell to show the HTML representation or trust the notebook. <br />On GitHub, the HTML representation is unable to render, please try loading this page with nbviewer.org.</b></div><div class=\"sk-container\" hidden><div class=\"sk-item\"><div class=\"sk-estimator sk-toggleable\"><input class=\"sk-toggleable__control sk-hidden--visually\" id=\"sk-estimator-id-2\" type=\"checkbox\" checked><label for=\"sk-estimator-id-2\" class=\"sk-toggleable__label sk-toggleable__label-arrow\">MultinomialNB</label><div class=\"sk-toggleable__content\"><pre>MultinomialNB()</pre></div></div></div></div></div>"
      ],
      "text/plain": [
       "MultinomialNB()"
      ]
     },
     "execution_count": 15,
     "metadata": {},
     "output_type": "execute_result"
    }
   ],
   "source": [
    "nvc.fit(train_counts,train_emails.target)"
   ]
  },
  {
   "cell_type": "code",
   "execution_count": 16,
   "id": "a5b694d2",
   "metadata": {},
   "outputs": [
    {
     "name": "stdout",
     "output_type": "stream",
     "text": [
      "0.9924528301886792\n"
     ]
    }
   ],
   "source": [
    "print(nvc.score(test_counts,test_emails.target))"
   ]
  },
  {
   "cell_type": "markdown",
   "id": "e5484979",
   "metadata": {},
   "source": [
    "When testing the accuracy of our classifier we have a very high accuracy of 99%"
   ]
  },
  {
   "cell_type": "code",
   "execution_count": 17,
   "id": "1df75549",
   "metadata": {},
   "outputs": [
    {
     "name": "stdout",
     "output_type": "stream",
     "text": [
      "0.5054302422723476\n"
     ]
    }
   ],
   "source": [
    "emails_new = fetch_20newsgroups(categories = ['rec.sport.baseball', 'rec.sport.hockey'])\n",
    "email_counts_new = counter.transform(emails_new.data)\n",
    "print(nvc.score(email_counts_new,emails_new.target))"
   ]
  },
  {
   "cell_type": "markdown",
   "id": "f99c346c",
   "metadata": {},
   "source": [
    "The classifier was 99% accurate when trying to classify hockey and religious emails. But only 50% accurate when trying to distingusih betwen two sports\n",
    "\n",
    "This is worse and makes sense — emails about sports probably share more words in common."
   ]
  },
  {
   "cell_type": "code",
   "execution_count": null,
   "id": "d7c4656a",
   "metadata": {},
   "outputs": [],
   "source": []
  }
 ],
 "metadata": {
  "kernelspec": {
   "display_name": "Python 3 (ipykernel)",
   "language": "python",
   "name": "python3"
  },
  "language_info": {
   "codemirror_mode": {
    "name": "ipython",
    "version": 3
   },
   "file_extension": ".py",
   "mimetype": "text/x-python",
   "name": "python",
   "nbconvert_exporter": "python",
   "pygments_lexer": "ipython3",
   "version": "3.10.8"
  }
 },
 "nbformat": 4,
 "nbformat_minor": 5
}
